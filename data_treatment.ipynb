{
 "metadata": {
  "language_info": {
   "codemirror_mode": {
    "name": "ipython",
    "version": 3
   },
   "file_extension": ".py",
   "mimetype": "text/x-python",
   "name": "python",
   "nbconvert_exporter": "python",
   "pygments_lexer": "ipython3",
   "version": "3.9.5"
  },
  "orig_nbformat": 4,
  "kernelspec": {
   "name": "python3",
   "display_name": "Python 3.9.5 64-bit (windows store)"
  },
  "interpreter": {
   "hash": "715e219bcb022e5dd0be746a7cc219d2f3704c46814544784d4ee31ee1675352"
  }
 },
 "nbformat": 4,
 "nbformat_minor": 2,
 "cells": [
  {
   "cell_type": "code",
   "execution_count": 1,
   "metadata": {},
   "outputs": [],
   "source": [
    "import pandas as pd\n",
    "from SerialLogger import load_yaml_header\n",
    "from Analyzelogs import load_log, categorize_logfiles, calculate_all, calculate_cost, extract_avg\n",
    "\n",
    "# import all used functions for processing the data"
   ]
  },
  {
   "cell_type": "code",
   "execution_count": null,
   "metadata": {},
   "outputs": [],
   "source": [
    "# categorize device name here, do multiple if multiple devices.\n",
    "# \n",
    "\n",
    "\n",
    "root_dir = \"./test_results\" # TODO set to your workspace root or use relative path\n",
    "device_dir = \"your_device_folder\" # TODO set to the folder containing logfiles\n",
    "\n",
    "device_dict = categorize_logfiles(f\"{root_dir}/{device_dir})"
   ]
  },
  {
   "cell_type": "code",
   "execution_count": null,
   "metadata": {},
   "outputs": [],
   "source": [
    "# create index, the full name of each primitive being benchmarked\n",
    "index = [\"XOR\" , \"RNG\"] #TODO fill in with your primitives\n",
    "\n",
    "# create corresponding list to the index that contains the raw log name of primitive\n",
    "primitives = [\"xor_256\", \"rng_256\"] #TODO fill in with your own primitive log_type names matching index\n",
    " "
   ]
  }
 ]
}