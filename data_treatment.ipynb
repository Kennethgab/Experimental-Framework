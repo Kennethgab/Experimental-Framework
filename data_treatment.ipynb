{
 "metadata": {
  "language_info": {
   "codemirror_mode": {
    "name": "ipython",
    "version": 3
   },
   "file_extension": ".py",
   "mimetype": "text/x-python",
   "name": "python",
   "nbconvert_exporter": "python",
   "pygments_lexer": "ipython3",
   "version": "3.9.5"
  },
  "orig_nbformat": 2,
  "kernelspec": {
   "name": "python3",
   "display_name": "Python 3.9.5 64-bit (windows store)"
  },
  "metadata": {
   "interpreter": {
    "hash": "715e219bcb022e5dd0be746a7cc219d2f3704c46814544784d4ee31ee1675352"
   }
  },
  "interpreter": {
   "hash": "715e219bcb022e5dd0be746a7cc219d2f3704c46814544784d4ee31ee1675352"
  }
 },
 "nbformat": 4,
 "nbformat_minor": 2,
 "cells": [
  {
   "source": [
    "\n",
    "import pandas as pd\n",
    "from SerialLogger import load_yaml_header\n",
    "from Analyzelogs import load_log, categorize_logfiles, calculate_all, calculate_cost, extract_avg\n",
    "import glob\n",
    "\n",
    "# import all used functions for processing the data\n",
    "\n",
    "     \n"
   ],
   "cell_type": "code",
   "metadata": {},
   "execution_count": 1,
   "outputs": []
  },
  {
   "cell_type": "code",
   "execution_count": 2,
   "metadata": {},
   "outputs": [
    {
     "output_type": "stream",
     "name": "stdout",
     "text": [
      "3\n"
     ]
    }
   ],
   "source": [
    "# Categorizing all the expermimental results on cryptographic primitives for ESP32 into pandas dataframes.  stored in dicts.\n",
    "\n",
    "root_dir = \"./test_results\"\n",
    "esp32_dir =  \"Adafruit_Feather\"\n",
    "esp8266_dir = \"Adafruit_Huzzah\"\n",
    "nano_dir =  \"Arduino_Nano_33_IoT\"\n",
    "\n",
    "\n",
    "# put all logfiles into dicts by each device, each logfile a pandas dataframe with columnssample and time [microseconds]\n",
    "esp32 = categorize_logfiles(f\"{root_dir}/{esp32_dir}\")\n",
    "esp8266 = categorize_logfiles(f\"{root_dir}/{esp8266_dir}\")\n",
    "nano_iot = categorize_logfiles(f\"{root_dir}/{nano_dir}\")\n",
    "\n",
    "time_col = \"time [microseconds]\"\n",
    "esp32_xor = esp32[\"xor_256\"][time_col]\n",
    "\n",
    "print(round(esp32_xor.mean()))\n",
    "\n"
   ]
  },
  {
   "cell_type": "code",
   "execution_count": 4,
   "metadata": {},
   "outputs": [
    {
     "output_type": "stream",
     "name": "stdout",
     "text": [
      "                     ESP32  ESP8266  Nano IoT\nXOR               3.00E-06 7.00E-06  1.10E-05\nRNG               3.10E-05 9.20E-05  1.70E-04\nBLAKE2s           1.90E-05 8.30E-05  1.44E-04\nSHA256            2.80E-05 1.07E-04  2.61E-04\nSHA3-256          1.90E-04 5.50E-04  1.34E-03\nAES256 Enc.       1.50E-05 1.79E-04  3.24E-04\nAES256 Dec.       9.00E-06 2.44E-04  5.25E-04\nAES-256-GCM       1.53E-04 1.03E-03  2.57E-03\nNIST P-256 ECC+DH 1.70E-01 9.78E-01  7.81E-01\n"
     ]
    }
   ],
   "source": [
    "# Constructing the measured primitive table using the mean execution time in microseconds\n",
    "index = [\"XOR\", \"RNG\", \"BLAKE2s\", \"SHA256\", \"SHA3-256\",\"AES256 Enc.\", \"AES256 Dec.\", \"AES-256-GCM\", \"NIST P-256 ECC+DH\"]\n",
    "\n",
    "primitives = ['xor_256', 'rng_256','blake2s','sha2_256', 'sha3_256','aes256_enc','aes256_dec','aes256_gcm', 'secp256r1_ecc_dh']\n",
    "\n",
    "# for each primitive in the list, calculate the avg execution time and put that in a list. returns a column of average execution time for each device\n",
    "esp32_avgs = extract_avg(esp32, primitives)\n",
    "esp8266_avgs = extract_avg(esp8266, primitives)\n",
    "nano_avgs = extract_avg(nano_iot, primitives)\n",
    "\n",
    "pd.set_option('display.float_format', '{:.2E}'.format) # display values in dataframe table setting to 2 significant digits\n",
    "\n",
    "# create primitive execution time table, columns for each device average execution time.\n",
    "primitives_avg = pd.DataFrame({\"ESP32\" : esp32_avgs, \n",
    "\"ESP8266\" : esp8266_avgs, \"Nano IoT\" : nano_avgs}, index=index)\n",
    "print(primitives_avg)\n",
    "\n",
    "# store in file ./tables/primitives_avg.tex\n",
    "primitives_avg.to_latex('./tables/primitives_avg.tex')\n"
   ]
  },
  {
   "cell_type": "code",
   "execution_count": 5,
   "metadata": {},
   "outputs": [
    {
     "output_type": "stream",
     "name": "stdout",
     "text": [
      "                ESP32  ESP8266  Nano IoT\nHashXOR SHA3 3.11E-04 8.56E-04  2.18E-03\nNewHope      1.12E-02      NaN  7.73E-02\nECIES        1.70E-01 9.79E-01  7.84E-01\n"
     ]
    }
   ],
   "source": [
    "#  implemented scheme average execution time \n",
    "\n",
    "# index for dataframe/table implemented scheme average excution time\n",
    "implemented_schemes_index = [\"HashXOR SHA3\", \"NewHope\", \"ECIES\" ]\n",
    "# keys to use in dictionary to get right dataframe\n",
    "implemented_schemes = [\"hashxor\", \"newhope_client\", \"ecies\"]\n",
    "\n",
    "# create 3 lists containing avg execution time of lists for each device in form [hashxor_avg, newhope_avg, ecies_avg]\n",
    "esp32_avg_schemes = extract_avg(esp32, implemented_schemes)\n",
    "esp8266_avg_schemes = extract_avg(esp8266, implemented_schemes)\n",
    "nano_avg_schemes = extract_avg(nano_iot, implemented_schemes)\n",
    "\n",
    "\n",
    "implemented_schemes_avg = pd.DataFrame({ \"ESP32\" : esp32_avg_schemes,\n",
    "\"ESP8266\" : esp8266_avg_schemes, \"Nano IoT\" : nano_avg_schemes}, index=implemented_schemes_index)\n",
    "\n",
    "print(implemented_schemes_avg)\n",
    "\n",
    "implemented_schemes_avg.to_latex('./tables/implemented_schemes_avg.tex')\n"
   ]
  },
  {
   "cell_type": "code",
   "execution_count": 6,
   "metadata": {},
   "outputs": [
    {
     "output_type": "stream",
     "name": "stdout",
     "text": [
      "                   ESP32  ESP8266  Nano IoT\nKhan            1.61E-04 7.85E-04  1.77E-03\nBraeken         1.96E-04 7.49E-04  1.83E-03\nSEL-AKA         1.30E-04 5.92E-04  1.28E-03\nHashXOR BlAKE2s 1.18E-04 3.95E-04  7.78E-04\nHashXOR SHA3    2.89E-04 8.62E-04  1.98E-03\nECIES           1.70E-01 9.79E-01  7.84E-01\n"
     ]
    }
   ],
   "source": [
    "# theoretical scheme average execution time\n",
    "# khan: rand, 3 xor, 4 hash, 1 sc.dc\n",
    "# braeken: 7 hash\n",
    "# SEL-AKA: rand, 3 hash, sc.en\n",
    "scheme_index = ['Khan', \"Braeken\", \"SEL-AKA\",  \"HashXOR BlAKE2s\", \"HashXOR SHA3\", \"ECIES\"]\n",
    "\n",
    "braeken_prims = [[\"SHA256\", 7]]\n",
    "sel_aka_prims = [[\"RNG\", 1], [\"SHA256\",3], [\"AES256 Enc.\", 1]]\n",
    "khan_prims = [[\"RNG\", 1], [\"XOR\", 3], [\"AES256 Dec.\", 1], [\"SHA256\", 4]]\n",
    "hashxor_2 = [[\"RNG\", 2], [\"XOR\", 3], [\"SHA256\", 1], [\"BLAKE2s\", 1]]\n",
    "ecies_prims = [[\"SHA256\", 1], [\"NIST P-256 ECC+DH\", 1], [\"AES-256-GCM\", 1]]\n",
    "hashxor_prims = [[\"RNG\", 2], [\"XOR\",3], [\"SHA256\", 1], [\"SHA3-256\", 1]]\n",
    "\n",
    "def calculate_cost(df, scheme_prims, device): \n",
    "    costs = []\n",
    "    for prim_pair in scheme_prims:\n",
    "        primitive = prim_pair[0]\n",
    "        multi = prim_pair[1]\n",
    "        cost = df.at[primitive, device]*multi\n",
    "        costs.append(cost)\n",
    "    return costs\n",
    "\n",
    "\n",
    "def calculate_all(df, schemes, device):\n",
    "    scheme_costs = []\n",
    "    for scheme_prims in schemes:\n",
    "        scheme_cost = round(sum(calculate_cost(df, scheme_prims, device)),6)\n",
    "        scheme_costs.append(scheme_cost)\n",
    "\n",
    "    return scheme_costs\n",
    "\n",
    "schemes = [khan_prims, braeken_prims, sel_aka_prims,  hashxor_2, hashxor_prims, ecies_prims ]\n",
    "\n",
    "esp32_schemes = calculate_all(primitives_avg, schemes, \"ESP32\")\n",
    "esp8266_schemes = calculate_all(primitives_avg, schemes, \"ESP8266\")\n",
    "nano_schemes = calculate_all(primitives_avg, schemes, \"Nano IoT\")\n",
    "\n",
    "\n",
    "\n",
    "schemes_theoretical = pd.DataFrame({\"ESP32\" : esp32_schemes, \"ESP8266\" : esp8266_schemes, \"Nano IoT\" : nano_schemes}, index=scheme_index)\n",
    "print(schemes_theoretical)"
   ]
  },
  {
   "cell_type": "code",
   "execution_count": 73,
   "metadata": {},
   "outputs": [
    {
     "output_type": "stream",
     "name": "stdout",
     "text": [
      "theoretical:  170006.0\nimplemented:  170049.0\nerror: 0.03%\ndifference: 0.01%\nchange: 0.03%\n"
     ]
    }
   ],
   "source": [
    "# calculate percentage error between theoretical schemes and implemented schemes\n",
    "\n",
    "def percentage_difference(a,b):\n",
    "    delta = abs(a - b);\n",
    "    return round((delta/(a+b))*100,2)\n",
    "\n",
    "def percentage_error(a, b):\n",
    "    delta = abs(a - b)\n",
    "    return round((delta/abs(b))*100,2)\n",
    "\n",
    "def percentage_change(a,b):\n",
    "    delta = a -b\n",
    "    return round((delta/abs(b))*100, 2)\n",
    "\n",
    "\n",
    "theoretical = schemes_theoretical.at[\"ECIES\", \"ESP32\"]*1e6\n",
    "implemented = implemented_schemes_avg.at[\"ECIES\", \"ESP32\"]*1e6\n",
    "print(\"theoretical: \",theoretical)\n",
    "print(\"implemented: \",implemented)\n",
    "error = percentage_error(theoretical, implemented)\n",
    "difference = percentage_difference(theoretical, implemented);\n",
    "change = percentage_change(implemented, theoretical)\n",
    "print(f\"error: {error}%\\ndifference: {difference}%\\nchange: {change}%\")\n"
   ]
  },
  {
   "cell_type": "code",
   "execution_count": null,
   "metadata": {},
   "outputs": [],
   "source": []
  }
 ]
}